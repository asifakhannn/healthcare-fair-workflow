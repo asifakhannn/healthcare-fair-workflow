{
 "cells": [
  {
   "cell_type": "markdown",
   "id": "0e0d8278",
   "metadata": {},
   "source": [
    "# Kaggle Healthcare Dataset — FAIR Reproducible Workflow\n",
    "\n",
    "This notebook demonstrates a small, **reproducible** analysis using a healthcare CSV from Kaggle (uploader: *prasad22*).  \n",
    "We load the data, do quick EDA, save outputs, and reflect on **FAIR** principles (Findable, Accessible, Interoperable, Reusable)."
   ]
  },
  {
   "cell_type": "code",
   "execution_count": 9,
   "id": "12b28ced",
   "metadata": {},
   "outputs": [
    {
     "ename": "ModuleNotFoundError",
     "evalue": "No module named 'pandas'",
     "output_type": "error",
     "traceback": [
      "\u001b[0;31m---------------------------------------------------------------------------\u001b[0m",
      "\u001b[0;31mModuleNotFoundError\u001b[0m                       Traceback (most recent call last)",
      "Cell \u001b[0;32mIn[9], line 4\u001b[0m\n\u001b[1;32m      2\u001b[0m \u001b[38;5;28;01mimport\u001b[39;00m\u001b[38;5;250m \u001b[39m\u001b[38;5;21;01msys\u001b[39;00m\n\u001b[1;32m      3\u001b[0m \u001b[38;5;28;01mimport\u001b[39;00m\u001b[38;5;250m \u001b[39m\u001b[38;5;21;01mmath\u001b[39;00m\n\u001b[0;32m----> 4\u001b[0m \u001b[38;5;28;01mimport\u001b[39;00m\u001b[38;5;250m \u001b[39m\u001b[38;5;21;01mpandas\u001b[39;00m\u001b[38;5;250m \u001b[39m\u001b[38;5;28;01mas\u001b[39;00m\u001b[38;5;250m \u001b[39m\u001b[38;5;21;01mpd\u001b[39;00m\n\u001b[1;32m      5\u001b[0m \u001b[38;5;28;01mimport\u001b[39;00m\u001b[38;5;250m \u001b[39m\u001b[38;5;21;01mnumpy\u001b[39;00m\u001b[38;5;250m \u001b[39m\u001b[38;5;28;01mas\u001b[39;00m\u001b[38;5;250m \u001b[39m\u001b[38;5;21;01mnp\u001b[39;00m\n\u001b[1;32m      6\u001b[0m \u001b[38;5;28;01mimport\u001b[39;00m\u001b[38;5;250m \u001b[39m\u001b[38;5;21;01mmatplotlib\u001b[39;00m\u001b[38;5;21;01m.\u001b[39;00m\u001b[38;5;21;01mpyplot\u001b[39;00m\u001b[38;5;250m \u001b[39m\u001b[38;5;28;01mas\u001b[39;00m\u001b[38;5;250m \u001b[39m\u001b[38;5;21;01mplt\u001b[39;00m\n",
      "\u001b[0;31mModuleNotFoundError\u001b[0m: No module named 'pandas'"
     ]
    }
   ],
   "source": [
    "import os\n",
    "import sys\n",
    "import math\n",
    "import pandas as pd\n",
    "import numpy as np\n",
    "import matplotlib.pyplot as plt\n",
    "\n",
    "# Reproducibility\n",
    "np.random.seed(42)\n",
    "\n",
    "# Paths\n",
    "DATA_PATH = \"dataset/healthcare.csv\"\n",
    "OUT_DIR = \"outputs\"\n",
    "os.makedirs(OUT_DIR, exist_ok=True)\n",
    "\n",
    "pd.options.display.max_columns = 50\n",
    "pd.options.display.width = 120"
   ]
  },
  {
   "cell_type": "code",
   "execution_count": 2,
   "id": "92525d0a",
   "metadata": {},
   "outputs": [
    {
     "ename": "NameError",
     "evalue": "name 'pd' is not defined",
     "output_type": "error",
     "traceback": [
      "\u001b[0;31m---------------------------------------------------------------------------\u001b[0m",
      "\u001b[0;31mNameError\u001b[0m                                 Traceback (most recent call last)",
      "Cell \u001b[0;32mIn[2], line 1\u001b[0m\n\u001b[0;32m----> 1\u001b[0m \u001b[43mpd\u001b[49m\u001b[38;5;241m.\u001b[39mread_csv(\u001b[38;5;124m\"\u001b[39m\u001b[38;5;124mdataset/healthcare.csv\u001b[39m\u001b[38;5;124m\"\u001b[39m)\n\u001b[1;32m      2\u001b[0m df \u001b[38;5;241m=\u001b[39m pd\u001b[38;5;241m.\u001b[39mread_csv(DATA_PATH)\n",
      "\u001b[0;31mNameError\u001b[0m: name 'pd' is not defined"
     ]
    }
   ],
   "source": [
    "pd.read_csv(\"dataset/healthcare.csv\")\n",
    "df = pd.read_csv(DATA_PATH)\n"
   ]
  },
  {
   "cell_type": "code",
   "execution_count": 3,
   "id": "2cc125d8",
   "metadata": {},
   "outputs": [
    {
     "ename": "NameError",
     "evalue": "name 'pd' is not defined",
     "output_type": "error",
     "traceback": [
      "\u001b[0;31m---------------------------------------------------------------------------\u001b[0m",
      "\u001b[0;31mNameError\u001b[0m                                 Traceback (most recent call last)",
      "Cell \u001b[0;32mIn[3], line 2\u001b[0m\n\u001b[1;32m      1\u001b[0m \u001b[38;5;66;03m# Load CSV \u001b[39;00m\n\u001b[0;32m----> 2\u001b[0m df_raw \u001b[38;5;241m=\u001b[39m \u001b[43mpd\u001b[49m\u001b[38;5;241m.\u001b[39mread_csv(DATA_PATH)\n\u001b[1;32m      3\u001b[0m df_raw\u001b[38;5;241m.\u001b[39mhead()\n",
      "\u001b[0;31mNameError\u001b[0m: name 'pd' is not defined"
     ]
    }
   ],
   "source": [
    "# Load CSV \n",
    "df_raw = pd.read_csv(DATA_PATH)\n",
    "df_raw.head()"
   ]
  },
  {
   "cell_type": "code",
   "execution_count": null,
   "id": "1803ac7e",
   "metadata": {},
   "outputs": [],
   "source": [
    "print(\"Shape:\", df_raw.shape)\n",
    "print(\"\\nColumn names:\", list(df_raw.columns))\n",
    "\n",
    "# Missing values per column\n",
    "na_summary = df_raw.isna().sum().sort_values(ascending=False)\n",
    "print(\"\\nMissing values per column:\\n\", na_summary)\n",
    "\n",
    "# Dtypes overview\n",
    "print(\"\\nDtypes:\\n\", df_raw.dtypes)"
   ]
  },
  {
   "cell_type": "code",
   "execution_count": null,
   "id": "57265443",
   "metadata": {},
   "outputs": [],
   "source": [
    "df = df_raw.copy()\n",
    "\n",
    "# Standardize column names: lower + snake_case\n",
    "def to_snake(name: str) -> str:\n",
    "    return (\n",
    "        name.strip()\n",
    "            .replace(\"/\", \" \")\n",
    "            .replace(\"-\", \" \")\n",
    "            .replace(\"(\", \" \")\n",
    "            .replace(\")\", \" \")\n",
    "            .replace(\"%\", \"pct\")\n",
    "            .replace(\"#\", \"n\")\n",
    "    )\n",
    "\n",
    "df.columns = (\n",
    "    df.columns\n",
    "      .str.replace(r\"[\\s]+\", \"_\", regex=True)\n",
    "      .map(to_snake)\n",
    "      .str.lower()\n",
    ")\n",
    "\n",
    "# Try to find commonly expected columns (be robust to naming)\n",
    "def find_col(candidates):\n",
    "    cols = {c.lower(): c for c in df.columns}\n",
    "    for key in candidates:\n",
    "        if key in cols:\n",
    "            return cols[key]\n",
    "    return None\n",
    "\n",
    "age_col     = find_col([\"age\"])\n",
    "gender_col  = find_col([\"gender\",\"sex\"])\n",
    "cond_col    = find_col([\"medical_condition\",\"condition\",\"diagnosis\"])\n",
    "date_col    = find_col([\"date_of_admission\",\"admission_date\",\"date\"])\n",
    "cost_col    = find_col([\"treatment_cost\",\"billing_amount\",\"charges\",\"charge\",\"cost\"])\n",
    "\n",
    "# Parse date if present\n",
    "if date_col is not None:\n",
    "    df[date_col] = pd.to_datetime(df[date_col], errors=\"coerce\")\n",
    "\n",
    "# Make age numeric if present\n",
    "if age_col is not None:\n",
    "    df[age_col] = pd.to_numeric(df[age_col], errors=\"coerce\")\n",
    "\n",
    "# Make cost numeric if present\n",
    "if cost_col is not None:\n",
    "    df[cost_col] = (\n",
    "        pd.to_numeric(df[cost_col], errors=\"coerce\")\n",
    "        .astype(\"float64\")\n",
    "    )\n",
    "\n",
    "# Quick preview after cleaning\n",
    "df.head()"
   ]
  },
  {
   "cell_type": "code",
   "execution_count": null,
   "id": "e26a3818",
   "metadata": {},
   "outputs": [],
   "source": [
    "summary = {\n",
    "    \"n_rows\": len(df),\n",
    "    \"n_cols\": df.shape[1],\n",
    "    \"n_missing_cells\": int(df.isna().sum().sum()),\n",
    "    \"pct_rows_with_any_na\": float((df.isna().any(axis=1)).mean()*100),\n",
    "}\n",
    "display(pd.DataFrame([summary]))\n",
    "\n",
    "# Numeric summary\n",
    "display(df.describe(datetime_is_numeric=True, include=\"all\").T.iloc[:15])"
   ]
  },
  {
   "cell_type": "markdown",
   "id": "acf40caf",
   "metadata": {},
   "source": [
    "#Simple EDA tables (Code)"
   ]
  },
  {
   "cell_type": "code",
   "execution_count": null,
   "id": "9a11fb8a",
   "metadata": {},
   "outputs": [],
   "source": [
    "tables_to_save = {}\n",
    "\n",
    "# Gender counts\n",
    "if gender_col is not None and gender_col in df:\n",
    "    gender_counts = df[gender_col].value_counts(dropna=False).rename_axis(gender_col).to_frame(\"count\")\n",
    "    tables_to_save[\"gender_counts.csv\"] = gender_counts\n",
    "\n",
    "# Top medical conditions\n",
    "if cond_col is not None and cond_col in df:\n",
    "    top_conditions = df[cond_col].value_counts().head(10).rename_axis(cond_col).to_frame(\"count\")\n",
    "    tables_to_save[\"top10_conditions.csv\"] = top_conditions\n",
    "\n",
    "# Average cost by gender\n",
    "if cost_col is not None and gender_col is not None and all(c in df for c in [cost_col, gender_col]):\n",
    "    avg_cost_gender = df.groupby(gender_col, dropna=False)[cost_col].mean().to_frame(\"avg_cost\").sort_values(\"avg_cost\", ascending=False)\n",
    "    tables_to_save[\"avg_cost_by_gender.csv\"] = avg_cost_gender\n",
    "\n",
    "# Events per month (if admission date exists)\n",
    "if date_col is not None and date_col in df:\n",
    "    per_month = df.set_index(date_col).resample(\"MS\").size().rename(\"n_admissions\").to_frame()\n",
    "    tables_to_save[\"admissions_per_month.csv\"] = per_month\n",
    "\n",
    "# Save all tables\n",
    "for fname, table in tables_to_save.items():\n",
    "    out_path = os.path.join(OUT_DIR, fname)\n",
    "    table.to_csv(out_path)\n",
    "    print(\"Saved:\", out_path)\n",
    "\n",
    "# Show one or two in the output\n",
    "next(iter(tables_to_save.values())) if tables_to_save else df.head(3)"
   ]
  },
  {
   "cell_type": "code",
   "execution_count": null,
   "id": "84d668d8",
   "metadata": {},
   "outputs": [],
   "source": [
    "# 1) Age histogram\n",
    "if age_col is not None and age_col in df:\n",
    "    plt.figure()\n",
    "    df[age_col].dropna().astype(float).plot(kind=\"hist\", bins=20)\n",
    "    plt.title(\"Age Distribution\")\n",
    "    plt.xlabel(\"Age\")\n",
    "    plt.ylabel(\"Count\")\n",
    "    fig1_path = os.path.join(OUT_DIR, \"age_hist.png\")\n",
    "    plt.savefig(fig1_path, bbox_inches=\"tight\", dpi=150)\n",
    "    plt.show()\n",
    "    print(\"Saved:\", fig1_path)\n",
    "\n",
    "# 2) Cost by gender (boxplot)\n",
    "if cost_col is not None and gender_col is not None and all(c in df for c in [cost_col, gender_col]):\n",
    "    plt.figure()\n",
    "    # Prepare data in simple lists by gender categories\n",
    "    grouped = [g.dropna().values for _, g in df.groupby(gender_col)[cost_col]]\n",
    "    labels  = [str(k) for k, _ in df.groupby(gender_col)[cost_col]]\n",
    "    plt.boxplot(grouped, labels=labels, showfliers=False)\n",
    "    plt.title(\"Treatment Cost by Gender\")\n",
    "    plt.xlabel(\"Gender\")\n",
    "    plt.ylabel(\"Cost\")\n",
    "    fig2_path = os.path.join(OUT_DIR, \"cost_by_gender_box.png\")\n",
    "    plt.savefig(fig2_path, bbox_inches=\"tight\", dpi=150)\n",
    "    plt.show()\n",
    "    print(\"Saved:\", fig2_path)\n",
    "\n",
    "# 3) Top conditions bar chart\n",
    "if cond_col is not None and cond_col in df:\n",
    "    top = df[cond_col].value_counts().head(10)\n",
    "    plt.figure()\n",
    "    top.plot(kind=\"bar\")\n",
    "    plt.title(\"Top 10 Medical Conditions\")\n",
    "    plt.xlabel(\"Condition\")\n",
    "    plt.ylabel(\"Count\")\n",
    "    plt.xticks(rotation=45, ha=\"right\")\n",
    "    fig3_path = os.path.join(OUT_DIR, \"top10_conditions_bar.png\")\n",
    "    plt.savefig(fig3_path, bbox_inches=\"tight\", dpi=150)\n",
    "    plt.show()\n",
    "    print(\"Saved:\", fig3_path)\n",
    "\n",
    "# 4) Admissions per month\n",
    "if date_col is not None and date_col in df:\n",
    "    per_month = df.set_index(date_col).resample(\"MS\").size()\n",
    "    if len(per_month) > 0:\n",
    "        plt.figure()\n",
    "        per_month.plot()\n",
    "        plt.title(\"Admissions per Month\")\n",
    "        plt.xlabel(\"Month\")\n",
    "        plt.ylabel(\"Count\")\n",
    "        fig4_path = os.path.join(OUT_DIR, \"admissions_per_month.png\")\n",
    "        plt.savefig(fig4_path, bbox_inches=\"tight\", dpi=150)\n",
    "        plt.show()\n",
    "        print(\"Saved:\", fig4_path)"
   ]
  },
  {
   "cell_type": "code",
   "execution_count": null,
   "id": "455d2b8e",
   "metadata": {},
   "outputs": [],
   "source": [
    "# Create a light, privacy-aware subset (no names/identifiers if present)\n",
    "cols_to_keep = []\n",
    "for c in [age_col, gender_col, cond_col, date_col, cost_col]:\n",
    "    if c is not None and c in df.columns:\n",
    "        cols_to_keep.append(c)\n",
    "\n",
    "subset = df[cols_to_keep].copy()\n",
    "clean_path = os.path.join(OUT_DIR, \"healthcare_clean_subset.csv\")\n",
    "subset.to_csv(clean_path, index=False)\n",
    "print(\"Saved:\", clean_path)\n",
    "subset.head()"
   ]
  },
  {
   "cell_type": "markdown",
   "id": "d463c10b",
   "metadata": {},
   "source": [
    "## FAIR discussion\n",
    "\n",
    "**Findable** — This workflow is publicly hosted on GitHub with clear metadata (README, keywords).  \n",
    "The original dataset comes from Kaggle (uploader: *prasad22*). Kaggle datasets do **not** provide a DOI; to improve\n",
    "findability and citability, this project can be archived on **Zenodo** (via a GitHub release), which will mint a DOI.\n",
    "\n",
    "**Accessible** — Data is included as a CSV and loaded with pandas. The repository is public. The provenance (Kaggle link) is documented.\n",
    "\n",
    "**Interoperable** — Open, widely used formats are used (CSV for data, PNG/CSV for outputs). Column names are standardized\n",
    "to snake_case. Versioned dependencies are given in `environment.yml`.\n",
    "\n",
    "**Reusable** — The code is licensed (MIT) and the dataset attribution is provided. The notebook documents context, assumptions,\n",
    "and a small cleaned subset is exported. A risk assessment is included below."
   ]
  },
  {
   "cell_type": "markdown",
   "id": "f861f6e6",
   "metadata": {},
   "source": [
    "## Risk assessment\n",
    "\n",
    "- **Upstream availability**: Kaggle datasets may be updated or removed.  \n",
    "  *Mitigation*: include the CSV in the repo and optionally archive the repo to Zenodo for a DOI.\n",
    "- **Package changes**: future updates (e.g., pandas 3.x) might change parsing defaults.  \n",
    "  *Mitigation*: versions pinned in `environment.yml`.\n",
    "- **Data quality**: missing or inconsistent values could bias results.  \n",
    "  *Mitigation*: basic cleaning/validation, explicit dtype conversions, and clear reporting of missingness."
   ]
  },
  {
   "cell_type": "code",
   "execution_count": null,
   "id": "84fd20f3",
   "metadata": {},
   "outputs": [],
   "source": [
    "print(\"Artifacts created in:\", OUT_DIR)\n",
    "for f in sorted(os.listdir(OUT_DIR)):\n",
    "    print(\" -\", f)"
   ]
  },
  {
   "cell_type": "markdown",
   "id": "361b7e1b",
   "metadata": {},
   "source": []
  },
  {
   "cell_type": "markdown",
   "id": "f29f6c3d",
   "metadata": {},
   "source": [
    "##Basic summary (head, describe, null counts)"
   ]
  },
  {
   "cell_type": "markdown",
   "id": "098d17fd",
   "metadata": {},
   "source": [
    "##Simple plots (histogram of Age, bar chart of Gender, etc.)"
   ]
  },
  {
   "cell_type": "code",
   "execution_count": null,
   "id": "37befb3c",
   "metadata": {},
   "outputs": [],
   "source": []
  },
  {
   "cell_type": "markdown",
   "id": "402fcde1",
   "metadata": {},
   "source": [
    "##Save outputs (to outputs/)"
   ]
  },
  {
   "cell_type": "markdown",
   "id": "15e94d36",
   "metadata": {},
   "source": [
    "##FAIR discussion (Markdown cell)"
   ]
  }
 ],
 "metadata": {
  "kernelspec": {
   "display_name": "Python 3",
   "language": "python",
   "name": "python3"
  },
  "language_info": {
   "codemirror_mode": {
    "name": "ipython",
    "version": 3
   },
   "file_extension": ".py",
   "mimetype": "text/x-python",
   "name": "python",
   "nbconvert_exporter": "python",
   "pygments_lexer": "ipython3",
   "version": "3.9.6"
  }
 },
 "nbformat": 4,
 "nbformat_minor": 5
}
